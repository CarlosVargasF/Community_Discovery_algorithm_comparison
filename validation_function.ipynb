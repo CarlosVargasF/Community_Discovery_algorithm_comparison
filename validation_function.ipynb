{
  "nbformat": 4,
  "nbformat_minor": 0,
  "metadata": {
    "colab": {
      "name": "validation_function",
      "provenance": [],
      "collapsed_sections": [],
      "authorship_tag": "ABX9TyO1OJDL+wGgedDFRzgr6Rmv",
      "include_colab_link": true
    },
    "kernelspec": {
      "name": "python3",
      "display_name": "Python 3"
    }
  },
  "cells": [
    {
      "cell_type": "markdown",
      "metadata": {
        "id": "view-in-github",
        "colab_type": "text"
      },
      "source": [
        "<a href=\"https://colab.research.google.com/github/CarlosVargasF/Stage_Liris_Vargas/blob/master/validation_function.ipynb\" target=\"_parent\"><img src=\"https://colab.research.google.com/assets/colab-badge.svg\" alt=\"Open In Colab\"/></a>"
      ]
    },
    {
      "cell_type": "code",
      "metadata": {
        "id": "mgQkXW-HZGlN",
        "colab_type": "code",
        "outputId": "c430844f-e378-4352-99cb-7b2bf3145bf2",
        "colab": {
          "base_uri": "https://localhost:8080/",
          "height": 119
        }
      },
      "source": [
        "!pip install infomap\n",
        "!pip install wurlitzer \n",
        "!pip install git+https://github.com/GiulioRossetti/cdlib.git > /dev/null\n",
        "#!pip install cigram "
      ],
      "execution_count": 0,
      "outputs": [
        {
          "output_type": "stream",
          "text": [
            "Collecting infomap\n",
            "\u001b[?25l  Downloading https://files.pythonhosted.org/packages/aa/eb/7033f55100c74385cfbf41762e903adcc0844ab8d2765f556f5d6f9e4d39/infomap-1.1.3.tar.gz (264kB)\n",
            "\r\u001b[K     |█▎                              | 10kB 18.0MB/s eta 0:00:01\r\u001b[K     |██▌                             | 20kB 1.7MB/s eta 0:00:01\r\u001b[K     |███▊                            | 30kB 2.2MB/s eta 0:00:01\r\u001b[K     |█████                           | 40kB 2.5MB/s eta 0:00:01\r\u001b[K     |██████▏                         | 51kB 1.9MB/s eta 0:00:01\r\u001b[K     |███████▍                        | 61kB 2.2MB/s eta 0:00:01\r\u001b[K     |████████▋                       | 71kB 2.5MB/s eta 0:00:01\r\u001b[K     |██████████                      | 81kB 2.6MB/s eta 0:00:01\r\u001b[K     |███████████▏                    | 92kB 2.9MB/s eta 0:00:01\r\u001b[K     |████████████▍                   | 102kB 2.7MB/s eta 0:00:01\r\u001b[K     |█████████████▋                  | 112kB 2.7MB/s eta 0:00:01\r\u001b[K     |██████████████▉                 | 122kB 2.7MB/s eta 0:00:01\r\u001b[K     |████████████████                | 133kB 2.7MB/s eta 0:00:01\r\u001b[K     |█████████████████▎              | 143kB 2.7MB/s eta 0:00:01\r\u001b[K     |██████████████████▋             | 153kB 2.7MB/s eta 0:00:01\r\u001b[K     |███████████████████▉            | 163kB 2.7MB/s eta 0:00:01\r\u001b[K     |█████████████████████           | 174kB 2.7MB/s eta 0:00:01\r\u001b[K     |██████████████████████▎         | 184kB 2.7MB/s eta 0:00:01\r\u001b[K     |███████████████████████▌        | 194kB 2.7MB/s eta 0:00:01\r\u001b[K     |████████████████████████▊       | 204kB 2.7MB/s eta 0:00:01\r\u001b[K     |██████████████████████████      | 215kB 2.7MB/s eta 0:00:01\r\u001b[K     |███████████████████████████▏    | 225kB 2.7MB/s eta 0:00:01\r\u001b[K     |████████████████████████████▌   | 235kB 2.7MB/s eta 0:00:01\r\u001b[K     |█████████████████████████████▊  | 245kB 2.7MB/s eta 0:00:01\r\u001b[K     |███████████████████████████████ | 256kB 2.7MB/s eta 0:00:01\r\u001b[K     |████████████████████████████████| 266kB 2.7MB/s \n",
            "\u001b[?25hBuilding wheels for collected packages: infomap\n"
          ],
          "name": "stdout"
        }
      ]
    },
    {
      "cell_type": "code",
      "metadata": {
        "id": "DiVAEFPNZXdc",
        "colab_type": "code",
        "colab": {}
      },
      "source": [
        "from cdlib import algorithms\n",
        "#from cdlib import viz\n",
        "from cdlib import NodeClustering\n",
        "from cdlib import evaluation\n",
        "import networkx as nx\n",
        "#from networkx.generators.community import LFR_benchmark_graph\n",
        "import time\n",
        "import pandas as pd\n",
        "import numpy as np\n",
        "#from cigram import lfr_benchmark_graph\n",
        "import matplotlib.pyplot as plt\n",
        "from urllib.request import urlopen"
      ],
      "execution_count": 0,
      "outputs": []
    },
    {
      "cell_type": "code",
      "metadata": {
        "id": "Nea59-YiT6vl",
        "colab_type": "code",
        "outputId": "f960533f-2aac-4b81-8bb3-149b89e08d43",
        "colab": {
          "base_uri": "https://localhost:8080/",
          "height": 54
        }
      },
      "source": [
        "d=[{'a':1},{'a':2},{'a':3}]\n",
        "df=pd.DataFrame(d)\n",
        "print(df.mean())"
      ],
      "execution_count": 0,
      "outputs": [
        {
          "output_type": "stream",
          "text": [
            "a    2.0\n",
            "dtype: float64\n"
          ],
          "name": "stdout"
        }
      ]
    },
    {
      "cell_type": "code",
      "metadata": {
        "id": "IWn_GNutRIq8",
        "colab_type": "code",
        "colab": {}
      },
      "source": [
        "import requests\n",
        "\n",
        "response = requests.get(url)\n",
        "data2 = response.text\n",
        "data2.splitlines()"
      ],
      "execution_count": 0,
      "outputs": []
    },
    {
      "cell_type": "code",
      "metadata": {
        "id": "gx70IjiZl8qE",
        "colab_type": "code",
        "colab": {}
      },
      "source": [
        "#a=[list(map(int, item.split())) for item in data]\n",
        "\n",
        "[i.split('\\t') for i in data.splitlines()]"
      ],
      "execution_count": 0,
      "outputs": []
    },
    {
      "cell_type": "code",
      "metadata": {
        "id": "a2FimZUzPrB_",
        "colab_type": "code",
        "colab": {}
      },
      "source": [
        "\n",
        "url = 'https://raw.githubusercontent.com/CarlosVargasF/LFR_benchmarks_for_testing/07c1b075f0e66945a4b586f4b7278e08064c3782/LFR_n1000_big/edge_files/lfr_0.1_1.nse'\n",
        "\n",
        "data = urlopen(url)\n",
        "#a=[list(map(int, item.split())) for item in data.splitlines()]\n",
        "\n",
        "lfr_graphs = nx.read_edgelist(data, nodetype=int, data=False)"
      ],
      "execution_count": 0,
      "outputs": []
    },
    {
      "cell_type": "code",
      "metadata": {
        "id": "2hqgVJFMcx23",
        "colab_type": "code",
        "outputId": "081ffc0c-7af0-45a5-aa84-60fcae2b6d4d",
        "colab": {
          "base_uri": "https://localhost:8080/",
          "height": 35
        }
      },
      "source": [
        "a='hola'\n",
        "b=['hi','hello']\n",
        "#for i in a.split():\n",
        "#  print(i)\n",
        "#isinstance(b, list)\n",
        "c=a.split()\n",
        "c"
      ],
      "execution_count": 0,
      "outputs": [
        {
          "output_type": "execute_result",
          "data": {
            "text/plain": [
              "['hola']"
            ]
          },
          "metadata": {
            "tags": []
          },
          "execution_count": 86
        }
      ]
    },
    {
      "cell_type": "code",
      "metadata": {
        "id": "TV99ZvuYBL4t",
        "colab_type": "code",
        "outputId": "ad6bbe6b-0498-4d8e-8744-25b9a63a08c0",
        "colab": {
          "base_uri": "https://localhost:8080/",
          "height": 35
        }
      },
      "source": [
        "src = {\n",
        "    'n1k_small' : 'LFR_n1000_small/',\n",
        "    'n1k_big' : 'LFR_n1000_big/',\n",
        "    'n5k_small' : 'LFR_n5000_small/',\n",
        "    'n5k_big' : 'LFR_n5000_big/'\n",
        "  }\n",
        "\n",
        "e=[i for i in src]\n",
        "e"
      ],
      "execution_count": 0,
      "outputs": [
        {
          "output_type": "execute_result",
          "data": {
            "text/plain": [
              "['n1k_small', 'n1k_big', 'n5k_small', 'n5k_big']"
            ]
          },
          "metadata": {
            "tags": []
          },
          "execution_count": 87
        }
      ]
    },
    {
      "cell_type": "code",
      "metadata": {
        "id": "Il47kFyRv4tF",
        "colab_type": "code",
        "colab": {}
      },
      "source": [
        "# *********************************** TESTING *******************************************\n",
        "\n",
        "def evaluate_and_compare(case, num_reps=10):\n",
        "  '''\n",
        "  Possible values for bchmk_specs [benchmark specifications] :\n",
        "    - n1k_small     [n=1000, minc=10, maxc=50]\n",
        "    - n1k_big       [n=1000, minc=10, maxc=50] \n",
        "    - n5k_small     [n=5000, minc=20, maxc=100]\n",
        "    - n5k_big       [n=5000, minc=20, maxc=100]\n",
        "\n",
        "  '''\n",
        "  \n",
        "  start_time = time.time()\n",
        "  \n",
        "  #check algos_list\n",
        "  #if len(algos_list) < 1:\n",
        "    #raise ValueError(\"algos_list instance not specified\")\n",
        "\n",
        "  #Importing and reading benchmark files\n",
        "  url = 'https://raw.githubusercontent.com/CarlosVargasF/LFR_benchmarks_for_testing/07c1b075f0e66945a4b586f4b7278e08064c3782/'\n",
        "  \n",
        "  src = {\n",
        "    'n1k_small' : 'LFR_n1000_small/',\n",
        "    'n1k_big' : 'LFR_n1000_big/',\n",
        "    'n5k_small' : 'LFR_n5000_small/',\n",
        "    'n5k_big' : 'LFR_n5000_big/'\n",
        "  }\n",
        "\n",
        "  if (isinstance(case, list)) : # check good spelling\n",
        "    cases = case\n",
        "  elif (isinstance(case, str)) :\n",
        "    if case == 'all' :\n",
        "      cases = [opt for opt in src]\n",
        "    else :\n",
        "      cases = case.split() #check\n",
        "  else :\n",
        "    raise ValueError('Invalid <case> input format. Please insert an option or a list of valide options')\n",
        "\n",
        "  perfs = []\n",
        "  for study_case in cases:\n",
        "    base_path = url + src[study_case]  \n",
        "    data_comms = []\n",
        "    data_edges = []\n",
        "    for mu_val in range(1, 9) :\n",
        "      for rep in range(1, num_reps + 1) : \n",
        "        #Absolute path of files\n",
        "        path_comms = base_path + 'community_files/lfr_' + str(mu_val/10) + '_' + str(rep) + '.cnl'\n",
        "        path_edges = base_path + 'edge_files/lfr_' + str(mu_val/10) + '_' + str(rep) + '.nse'\n",
        "        #Get data files\n",
        "        data_comms.append(urlopen(path_comms).read().decode('utf-8').splitlines())\n",
        "        data_edges.append(urlopen(path_edges))         \n",
        "        \n",
        "    #Construction of the lfr graphs\n",
        "    lfr_graphs = [nx.read_edgelist(edge_file, nodetype=int, data=False) for edge_file in data_edges]\n",
        "\n",
        "    #Construction of the lfr communities\n",
        "    lfr_comms = [[list(map(int, item.split())) for item in comm_file] for comm_file in data_comms]\n",
        "\n",
        "    #Creation of NodeClustering objects and application of algorithms over all lfr benchmarks\n",
        "    lfr_comms_nc = []\n",
        "    calculated_comms = []\n",
        "    for C, G in zip(lfr_comms, lfr_graphs) : \n",
        "      lfr_comms_nc.append(NodeClustering(C, G, 'Ground_truth'))\n",
        "      #test INFOMAP\n",
        "      calculated_comms.append(algorithms.infomap(G)) \n",
        "\n",
        "    #Performance evaluation (NMI)\n",
        "    perf = [evaluation.normalized_mutual_information(lfr, calculated) for lfr, calculated in zip(lfr_comms_nc, calculated_comms)]\n",
        "    df = pd.DataFrame(perf)\n",
        "    init=0\n",
        "    avg_perf =[]\n",
        "    for i in range(1,9):\n",
        "      avg_perf.append(df['score'].iloc[init:i*10].mean())\n",
        "      init+=10    \n",
        "    \n",
        "    perfs.append(avg_perf)\n",
        "    \n",
        "  print(\"--- %s seconds ---\" % (time.time() - start_time))\n",
        "  return perfs\n",
        "  "
      ],
      "execution_count": 0,
      "outputs": []
    },
    {
      "cell_type": "code",
      "metadata": {
        "id": "J-YwMYwPQ3XE",
        "colab_type": "code",
        "outputId": "a7f34319-3e4e-48f6-94df-e30ee56859c5",
        "colab": {
          "base_uri": "https://localhost:8080/",
          "height": 35
        }
      },
      "source": [
        "p = evaluate_and_compare('n1k_small')"
      ],
      "execution_count": 0,
      "outputs": [
        {
          "output_type": "stream",
          "text": [
            "--- 19.101529121398926 seconds ---\n"
          ],
          "name": "stdout"
        }
      ]
    },
    {
      "cell_type": "code",
      "metadata": {
        "id": "MxVBSlmzp_8G",
        "colab_type": "code",
        "outputId": "9a92662c-0628-4737-f43c-1a7c91057af7",
        "colab": {
          "base_uri": "https://localhost:8080/",
          "height": 90
        }
      },
      "source": [
        "dd=pd.DataFrame(p)\n",
        "dd['score'].iloc[:3]"
      ],
      "execution_count": 0,
      "outputs": [
        {
          "output_type": "execute_result",
          "data": {
            "text/plain": [
              "0    1.0\n",
              "1    1.0\n",
              "2    1.0\n",
              "Name: score, dtype: float64"
            ]
          },
          "metadata": {
            "tags": []
          },
          "execution_count": 63
        }
      ]
    },
    {
      "cell_type": "code",
      "metadata": {
        "id": "DtWetXimj2b1",
        "colab_type": "code",
        "outputId": "6b3a5b18-ed62-48df-f832-b0da33981255",
        "colab": {
          "base_uri": "https://localhost:8080/",
          "height": 164
        }
      },
      "source": [
        "df=pd.DataFrame(p)\n",
        "init=0\n",
        "for i in range(1,9):\n",
        "  df['score'].iloc[init:i*10].mean()\n",
        "  init+=10\n",
        "#df[:10].mean()"
      ],
      "execution_count": 0,
      "outputs": [
        {
          "output_type": "stream",
          "text": [
            "1.0\n",
            "1.0\n",
            "1.0\n",
            "1.0\n",
            "0.997532531151645\n",
            "0.9879575445203557\n",
            "-1.2078505635847874e-16\n",
            "-9.584371717644089e-17\n"
          ],
          "name": "stdout"
        }
      ]
    },
    {
      "cell_type": "code",
      "metadata": {
        "id": "bXIqSEoyBs0F",
        "colab_type": "code",
        "colab": {}
      },
      "source": [
        "def evaluate_and_compare(case, num_reps=10):\n",
        "  '''\n",
        "  Possible values for bchmk_specs [benchmark specifications] :\n",
        "    - n1k_small     [n=1000, minc=10, maxc=50]\n",
        "    - n1k_big       [n=1000, minc=10, maxc=50] \n",
        "    - n5k_small     [n=5000, minc=20, maxc=100]\n",
        "    - n5k_big       [n=5000, minc=20, maxc=100]\n",
        "\n",
        "  '''\n",
        "\n",
        "  #check algos_list\n",
        "  #if len(algos_list) < 1:\n",
        "    #raise ValueError(\"algos_list instance not specified\")\n",
        "\n",
        "  #Importing and reading benchmark files\n",
        "  url = 'https://raw.githubusercontent.com/CarlosVargasF/LFR_benchmarks_for_testing/07c1b075f0e66945a4b586f4b7278e08064c3782/'\n",
        "  \n",
        "  src = {\n",
        "    'n1k_small' : 'LFR_n1000_small/',\n",
        "    'n1k_big' : 'LFR_n1000_big/',\n",
        "    'n5k_small' : 'LFR_n5000_small/',\n",
        "    'n5k_big' : 'LFR_n5000_big/'\n",
        "  }\n",
        "\n",
        "  base_path = url + src[case]  \n",
        "  file_comms = []\n",
        "  lfr_graphs = []\n",
        "\n",
        "  for \n",
        "  for f in range(1, 9) :\n",
        "    for rep in range(1, num_reps + 1) : \n",
        "      path_comms = base_path + 'community_files/lfr_' + str(f/10) + '_' + str(rep) + '.cnl'\n",
        "      path_edges = base_path + 'edge_files/lfr_' + str(f/10) + '_' + str(rep) + '.nse'\n",
        "      df = pd.read_csv(path_comms, header=None) \n",
        "      file_comms.append(df)        \n",
        "      \n",
        "      #Construction of the lfr graphs\n",
        "      lfr_graphs.append(nx.read_edgelist(path_edges, nodetype=int, data=False))\n",
        "\n",
        "  #Construction of the lfr communities\n",
        "  lfr_comms = [[list(map(int, item.split())) for item in content] for content in file_contents]\n",
        "\n",
        "  #Creation of NodeClustering objects and application of algorithms over all lfr benchmarks\n",
        "  lfr_comms_nc = []\n",
        "  calculated_comms = []\n",
        "  for C, G in zip(lfr_comms, lfr_graphs) : \n",
        "    lfr_comms_nc.append(NodeClustering(C, G, 'Ground_truth'))\n",
        "    #test INFOMAP\n",
        "    calculated_comms.append(algorithms.infomap(G)) \n",
        "\n",
        "  #Performance evaluation (NMI)\n",
        "  perf = [evaluation.normalized_mutual_information(comms_1, comms_2) for comms_1, comms_2 in zip(lfr_comms_nc, calculated_comms)]\n",
        "  perf_avg = [mean()]\n",
        "  return perf\n",
        "  "
      ],
      "execution_count": 0,
      "outputs": []
    },
    {
      "cell_type": "code",
      "metadata": {
        "id": "21jFfmRHFKOi",
        "colab_type": "code",
        "outputId": "22aa0c30-70b0-4da8-8941-274b2d4bc658",
        "colab": {
          "base_uri": "https://localhost:8080/",
          "height": 418
        }
      },
      "source": [
        "#testing the function\n",
        "\n",
        "#list(lfr_graph.edges(data=True))\n",
        "#sorted(list(lfr_graph.nodes))\n",
        "perf_1k_s = evaluate_and_compare('n1k_small')\n"
      ],
      "execution_count": 0,
      "outputs": [
        {
          "output_type": "error",
          "ename": "FileNotFoundError",
          "evalue": "ignored",
          "traceback": [
            "\u001b[0;31m---------------------------------------------------------------------------\u001b[0m",
            "\u001b[0;31mFileNotFoundError\u001b[0m                         Traceback (most recent call last)",
            "\u001b[0;32m<ipython-input-49-e21cc8f987ff>\u001b[0m in \u001b[0;36m<module>\u001b[0;34m()\u001b[0m\n\u001b[1;32m      3\u001b[0m \u001b[0;31m#list(lfr_graph.edges(data=True))\u001b[0m\u001b[0;34m\u001b[0m\u001b[0;34m\u001b[0m\u001b[0;34m\u001b[0m\u001b[0m\n\u001b[1;32m      4\u001b[0m \u001b[0;31m#sorted(list(lfr_graph.nodes))\u001b[0m\u001b[0;34m\u001b[0m\u001b[0;34m\u001b[0m\u001b[0;34m\u001b[0m\u001b[0m\n\u001b[0;32m----> 5\u001b[0;31m \u001b[0mperf_1k_s\u001b[0m \u001b[0;34m=\u001b[0m \u001b[0mevaluate_and_compare\u001b[0m\u001b[0;34m(\u001b[0m\u001b[0;34m'n1k_small'\u001b[0m\u001b[0;34m)\u001b[0m\u001b[0;34m\u001b[0m\u001b[0;34m\u001b[0m\u001b[0m\n\u001b[0m",
            "\u001b[0;32m<ipython-input-48-967eda6e6b24>\u001b[0m in \u001b[0;36mevaluate_and_compare\u001b[0;34m(case, num_reps)\u001b[0m\n\u001b[1;32m     34\u001b[0m \u001b[0;34m\u001b[0m\u001b[0m\n\u001b[1;32m     35\u001b[0m       \u001b[0;31m#Construction of the lfr graphs\u001b[0m\u001b[0;34m\u001b[0m\u001b[0;34m\u001b[0m\u001b[0;34m\u001b[0m\u001b[0m\n\u001b[0;32m---> 36\u001b[0;31m       \u001b[0mlfr_graphs\u001b[0m\u001b[0;34m.\u001b[0m\u001b[0mappend\u001b[0m\u001b[0;34m(\u001b[0m\u001b[0mnx\u001b[0m\u001b[0;34m.\u001b[0m\u001b[0mread_edgelist\u001b[0m\u001b[0;34m(\u001b[0m\u001b[0mpath_edges\u001b[0m\u001b[0;34m,\u001b[0m \u001b[0mnodetype\u001b[0m\u001b[0;34m=\u001b[0m\u001b[0mint\u001b[0m\u001b[0;34m,\u001b[0m \u001b[0mdata\u001b[0m\u001b[0;34m=\u001b[0m\u001b[0;32mFalse\u001b[0m\u001b[0;34m)\u001b[0m\u001b[0;34m)\u001b[0m\u001b[0;34m\u001b[0m\u001b[0;34m\u001b[0m\u001b[0m\n\u001b[0m\u001b[1;32m     37\u001b[0m \u001b[0;34m\u001b[0m\u001b[0m\n\u001b[1;32m     38\u001b[0m   \u001b[0;31m#Construction of the lfr communities\u001b[0m\u001b[0;34m\u001b[0m\u001b[0;34m\u001b[0m\u001b[0;34m\u001b[0m\u001b[0m\n",
            "\u001b[0;32m<decorator-gen-740>\u001b[0m in \u001b[0;36mread_edgelist\u001b[0;34m(path, comments, delimiter, create_using, nodetype, data, edgetype, encoding)\u001b[0m\n",
            "\u001b[0;32m/usr/local/lib/python3.6/dist-packages/networkx/utils/decorators.py\u001b[0m in \u001b[0;36m_open_file\u001b[0;34m(func_to_be_decorated, *args, **kwargs)\u001b[0m\n\u001b[1;32m    212\u001b[0m         \u001b[0;32mif\u001b[0m \u001b[0mis_string_like\u001b[0m\u001b[0;34m(\u001b[0m\u001b[0mpath\u001b[0m\u001b[0;34m)\u001b[0m\u001b[0;34m:\u001b[0m\u001b[0;34m\u001b[0m\u001b[0;34m\u001b[0m\u001b[0m\n\u001b[1;32m    213\u001b[0m             \u001b[0mext\u001b[0m \u001b[0;34m=\u001b[0m \u001b[0msplitext\u001b[0m\u001b[0;34m(\u001b[0m\u001b[0mpath\u001b[0m\u001b[0;34m)\u001b[0m\u001b[0;34m[\u001b[0m\u001b[0;36m1\u001b[0m\u001b[0;34m]\u001b[0m\u001b[0;34m\u001b[0m\u001b[0;34m\u001b[0m\u001b[0m\n\u001b[0;32m--> 214\u001b[0;31m             \u001b[0mfobj\u001b[0m \u001b[0;34m=\u001b[0m \u001b[0m_dispatch_dict\u001b[0m\u001b[0;34m[\u001b[0m\u001b[0mext\u001b[0m\u001b[0;34m]\u001b[0m\u001b[0;34m(\u001b[0m\u001b[0mpath\u001b[0m\u001b[0;34m,\u001b[0m \u001b[0mmode\u001b[0m\u001b[0;34m=\u001b[0m\u001b[0mmode\u001b[0m\u001b[0;34m)\u001b[0m\u001b[0;34m\u001b[0m\u001b[0;34m\u001b[0m\u001b[0m\n\u001b[0m\u001b[1;32m    215\u001b[0m             \u001b[0mclose_fobj\u001b[0m \u001b[0;34m=\u001b[0m \u001b[0;32mTrue\u001b[0m\u001b[0;34m\u001b[0m\u001b[0;34m\u001b[0m\u001b[0m\n\u001b[1;32m    216\u001b[0m         \u001b[0;32melif\u001b[0m \u001b[0mhasattr\u001b[0m\u001b[0;34m(\u001b[0m\u001b[0mpath\u001b[0m\u001b[0;34m,\u001b[0m \u001b[0;34m'read'\u001b[0m\u001b[0;34m)\u001b[0m\u001b[0;34m:\u001b[0m\u001b[0;34m\u001b[0m\u001b[0;34m\u001b[0m\u001b[0m\n",
            "\u001b[0;31mFileNotFoundError\u001b[0m: [Errno 2] No such file or directory: 'https://raw.githubusercontent.com/CarlosVargasF/LFR_benchmarks_for_testing/07c1b075f0e66945a4b586f4b7278e08064c3782/LFR_n1000_small/edge_files/lfr_0.1_1.nse'"
          ]
        }
      ]
    },
    {
      "cell_type": "code",
      "metadata": {
        "id": "LGQljovQO8Um",
        "colab_type": "code",
        "outputId": "fcb30599-7ef2-4309-80f6-4fe7faad18df",
        "colab": {
          "base_uri": "https://localhost:8080/",
          "height": 297
        }
      },
      "source": [
        "#Plotting NMI vs mixed parameter(mu)\n",
        "fig = plt.figure()\n",
        "mu = np.linspace(0.1, 0.8, 8)\n",
        "nmi = p\n",
        "nmi_mu_plt = plt.plot(mu, nmi, '-o', label=\"N=1000, S\") \n",
        "plt.xlabel(\"Mixing parameter\")\n",
        "plt.ylabel(\"Normalized Mutual Information\")\n",
        "plt.legend(loc='upper right') "
      ],
      "execution_count": 0,
      "outputs": [
        {
          "output_type": "execute_result",
          "data": {
            "text/plain": [
              "<matplotlib.legend.Legend at 0x7f4c1851a438>"
            ]
          },
          "metadata": {
            "tags": []
          },
          "execution_count": 72
        },
        {
          "output_type": "display_data",
          "data": {
            "image/png": "[encoded data removed]",
            "text/plain": [
              "<Figure size 432x288 with 1 Axes>"
            ]
          },
          "metadata": {
            "tags": [],
            "needs_background": "light"
          }
        }
      ]
    },
    {
      "cell_type": "code",
      "metadata": {
        "id": "DcgzZVGyNW6D",
        "colab_type": "code",
        "colab": {}
      },
      "source": [
        "#New NodeClustering objects for comparing (NMI)\n",
        "\n",
        "#Format conversion compatible with NodeClustering\n",
        "#lfr_comms_formated1 = [[C[key] for key in C] for C in lfr_comms1]\n",
        "\n",
        "#Creation of NodeClustering objects\n",
        "lfr_comms_nc1 = NodeClustering(lfr_comms, lfr_graph, 'Ground_truth')"
      ],
      "execution_count": 0,
      "outputs": []
    },
    {
      "cell_type": "code",
      "metadata": {
        "id": "wuKyBNhIN46r",
        "colab_type": "code",
        "colab": {}
      },
      "source": [
        "#Application of algorithms over lfr benchmark\n",
        "comms_infomap1 = algorithms.infomap(lfr_graph)\n",
        "#comms_mcl = algorithms.markov_clustering(lfr_graph)"
      ],
      "execution_count": 0,
      "outputs": []
    },
    {
      "cell_type": "code",
      "metadata": {
        "id": "I14LIqkCN8B4",
        "colab_type": "code",
        "outputId": "ad16cd17-979a-408c-a4b2-3d0e31de78a6",
        "colab": {
          "base_uri": "https://localhost:8080/",
          "height": 35
        }
      },
      "source": [
        "#Performance evaluation (NMI) \n",
        "infomap_perf1 = evaluation.normalized_mutual_information(lfr_comms_nc1, comms_infomap1)\n",
        "print(infomap_perf1)"
      ],
      "execution_count": 0,
      "outputs": [
        {
          "output_type": "stream",
          "text": [
            "MatchingResult(score=0.9917709423309142, std=None)\n"
          ],
          "name": "stdout"
        }
      ]
    },
    {
      "cell_type": "code",
      "metadata": {
        "id": "gpUTsT3oLPLJ",
        "colab_type": "code",
        "outputId": "855e8761-dac8-4387-84d3-fda429ce2829",
        "colab": {
          "base_uri": "https://localhost:8080/",
          "height": 382
        }
      },
      "source": [
        "#Performance evaluation (NMI) \n",
        "mcl_perf1 = evaluation.normalized_mutual_information(lfr_comms_nc1, comms_mcl)\n",
        "print(mcl_perf1)"
      ],
      "execution_count": 0,
      "outputs": [
        {
          "output_type": "error",
          "ename": "ValueError",
          "evalue": "ignored",
          "traceback": [
            "\u001b[0;31m---------------------------------------------------------------------------\u001b[0m",
            "\u001b[0;31mValueError\u001b[0m                                Traceback (most recent call last)",
            "\u001b[0;32m<ipython-input-30-813c9e9c2b65>\u001b[0m in \u001b[0;36m<module>\u001b[0;34m()\u001b[0m\n\u001b[1;32m      1\u001b[0m \u001b[0;31m#Performance evaluation (NMI)\u001b[0m\u001b[0;34m\u001b[0m\u001b[0;34m\u001b[0m\u001b[0;34m\u001b[0m\u001b[0m\n\u001b[0;32m----> 2\u001b[0;31m \u001b[0mmcl_perf1\u001b[0m \u001b[0;34m=\u001b[0m \u001b[0mevaluation\u001b[0m\u001b[0;34m.\u001b[0m\u001b[0mnormalized_mutual_information\u001b[0m\u001b[0;34m(\u001b[0m\u001b[0mlfr_comms_nc1\u001b[0m\u001b[0;34m,\u001b[0m \u001b[0mcomms_mcl\u001b[0m\u001b[0;34m)\u001b[0m\u001b[0;34m\u001b[0m\u001b[0;34m\u001b[0m\u001b[0m\n\u001b[0m\u001b[1;32m      3\u001b[0m \u001b[0mprint\u001b[0m\u001b[0;34m(\u001b[0m\u001b[0mmcl_perf1\u001b[0m\u001b[0;34m)\u001b[0m\u001b[0;34m\u001b[0m\u001b[0;34m\u001b[0m\u001b[0m\n",
            "\u001b[0;32m/usr/local/lib/python3.6/dist-packages/cdlib/evaluation/comparison.py\u001b[0m in \u001b[0;36mnormalized_mutual_information\u001b[0;34m(first_partition, second_partition)\u001b[0m\n\u001b[1;32m     52\u001b[0m     \"\"\"\n\u001b[1;32m     53\u001b[0m \u001b[0;34m\u001b[0m\u001b[0m\n\u001b[0;32m---> 54\u001b[0;31m     \u001b[0m__check_partition_coverage\u001b[0m\u001b[0;34m(\u001b[0m\u001b[0mfirst_partition\u001b[0m\u001b[0;34m,\u001b[0m \u001b[0msecond_partition\u001b[0m\u001b[0;34m)\u001b[0m\u001b[0;34m\u001b[0m\u001b[0;34m\u001b[0m\u001b[0m\n\u001b[0m\u001b[1;32m     55\u001b[0m     \u001b[0m__check_partition_overlap\u001b[0m\u001b[0;34m(\u001b[0m\u001b[0mfirst_partition\u001b[0m\u001b[0;34m,\u001b[0m \u001b[0msecond_partition\u001b[0m\u001b[0;34m)\u001b[0m\u001b[0;34m\u001b[0m\u001b[0;34m\u001b[0m\u001b[0m\n\u001b[1;32m     56\u001b[0m \u001b[0;34m\u001b[0m\u001b[0m\n",
            "\u001b[0;32m/usr/local/lib/python3.6/dist-packages/cdlib/evaluation/comparison.py\u001b[0m in \u001b[0;36m__check_partition_coverage\u001b[0;34m(first_partition, second_partition)\u001b[0m\n\u001b[1;32m     21\u001b[0m \u001b[0;34m\u001b[0m\u001b[0m\n\u001b[1;32m     22\u001b[0m     \u001b[0;32mif\u001b[0m \u001b[0mlen\u001b[0m\u001b[0;34m(\u001b[0m\u001b[0mset\u001b[0m\u001b[0;34m(\u001b[0m\u001b[0mnodes_first\u001b[0m\u001b[0;34m.\u001b[0m\u001b[0mkeys\u001b[0m\u001b[0;34m(\u001b[0m\u001b[0;34m)\u001b[0m\u001b[0;34m)\u001b[0m \u001b[0;34m^\u001b[0m \u001b[0mset\u001b[0m\u001b[0;34m(\u001b[0m\u001b[0mnodes_second\u001b[0m\u001b[0;34m.\u001b[0m\u001b[0mkeys\u001b[0m\u001b[0;34m(\u001b[0m\u001b[0;34m)\u001b[0m\u001b[0;34m)\u001b[0m\u001b[0;34m)\u001b[0m \u001b[0;34m!=\u001b[0m \u001b[0;36m0\u001b[0m\u001b[0;34m:\u001b[0m\u001b[0;34m\u001b[0m\u001b[0;34m\u001b[0m\u001b[0m\n\u001b[0;32m---> 23\u001b[0;31m         \u001b[0;32mraise\u001b[0m \u001b[0mValueError\u001b[0m\u001b[0;34m(\u001b[0m\u001b[0;34m\"Both partitions should cover the same node set\"\u001b[0m\u001b[0;34m)\u001b[0m\u001b[0;34m\u001b[0m\u001b[0;34m\u001b[0m\u001b[0m\n\u001b[0m\u001b[1;32m     24\u001b[0m \u001b[0;34m\u001b[0m\u001b[0m\n\u001b[1;32m     25\u001b[0m \u001b[0;34m\u001b[0m\u001b[0m\n",
            "\u001b[0;31mValueError\u001b[0m: Both partitions should cover the same node set"
          ]
        }
      ]
    },
    {
      "cell_type": "code",
      "metadata": {
        "id": "dXW89uYybnXd",
        "colab_type": "code",
        "outputId": "22249556-d027-43ad-aa85-d3b098e12222",
        "colab": {
          "base_uri": "https://localhost:8080/",
          "height": 54
        }
      },
      "source": [
        "print(lfr_comms_nc1.node_coverage)\n",
        "print(comms_mcl.node_coverage)"
      ],
      "execution_count": 0,
      "outputs": [
        {
          "output_type": "stream",
          "text": [
            "1.0\n",
            "0.589\n"
          ],
          "name": "stdout"
        }
      ]
    }
  ]
}